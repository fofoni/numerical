{
 "cells": [
  {
   "cell_type": "markdown",
   "metadata": {},
   "source": [
    "# Numerical Analysis - IMPA 2020\n",
    "### Professor Dan Marchesin\n",
    "### Hallison Paz, 1st year Phd student\n",
    "### Pedro Fonini, 2nd year MSc student"
   ]
  },
  {
   "cell_type": "markdown",
   "metadata": {},
   "source": [
    "# Modeling epidemics with SIR model"
   ]
  },
  {
   "cell_type": "code",
   "execution_count": null,
   "metadata": {},
   "outputs": [],
   "source": [
    "import os\n",
    "\n",
    "from ipywidgets import interact, interact_manual\n",
    "\n",
    "import numpy as np\n",
    "from scipy import linalg, integrate\n",
    "import matplotlib as mpl\n",
    "import matplotlib.pyplot as plt\n",
    "from matplotlib.legend_handler import HandlerTuple\n",
    "mpl.rc('font', size=18)"
   ]
  },
  {
   "cell_type": "code",
   "execution_count": null,
   "metadata": {},
   "outputs": [],
   "source": [
    "OUTPUT_DIR = os.path.join('images', 'SIR')"
   ]
  },
  {
   "cell_type": "markdown",
   "metadata": {},
   "source": [
    "## Newton's method"
   ]
  },
  {
   "cell_type": "code",
   "execution_count": null,
   "metadata": {},
   "outputs": [],
   "source": [
    "class IterationLimitError(Exception):\n",
    "    \"\"\"Exception type for too many iterations.\n",
    "    \n",
    "    Signals that we have reached the maximum allowed number of\n",
    "    iterations for an iterative numerical method.\"\"\""
   ]
  },
  {
   "cell_type": "code",
   "execution_count": null,
   "metadata": {},
   "outputs": [],
   "source": [
    "def newton(f, df, err, x0, max_iter=10,\n",
    "           max_iter_action='fail', verbose=False):\n",
    "    \"\"\"Newton's method for solving the equation f(x)=0.\n",
    "    \n",
    "    x0: initial guess; shape (N,)\n",
    "    f: callable; vector valued function of x.\n",
    "        input: shape (N,)\n",
    "        output: shape (N,)\n",
    "    df: callable; for each x, returns the jacobian matrix of f at x.\n",
    "        input: shape (N,)\n",
    "        output: shape (N, N)\n",
    "    err: callable; for each x, return the expected error in the\n",
    "            numerical evaluation of f(x).\n",
    "        input: shape (N,)\n",
    "        output: shape (N,), non-negative entries\n",
    "    max_iter: integer; the maximum allowed number of iterations\n",
    "    max_iter_action: action to be taken upon reaching the maximum number\n",
    "            of iterations. 'return' if we should return the best guess\n",
    "            up to now; or 'fail' if we should not return and raise an\n",
    "            expection.\n",
    "    \"\"\"\n",
    "    f_value = f(x0)\n",
    "\n",
    "    for n_iter in range(max_iter):\n",
    "        v = linalg.solve(df(x0), f_value)\n",
    "        x0 = x0 - v\n",
    "        f_value = f(x0)\n",
    "        if verbose:\n",
    "            print(f'n    = {n_iter+1}')\n",
    "            print(f'x    = {x0}')\n",
    "            print(f'step = {np.linalg.norm(v)}')\n",
    "            print(f'f    = {f_value}')\n",
    "            print(f'err  = {err(x0)}')\n",
    "            print()\n",
    "        if np.all(np.abs(f_value) <= err(x0)):\n",
    "            # f(x0) is so small that it could already be zero, it's\n",
    "            # impossible to know, so we might as well stop here.\n",
    "            if verbose:\n",
    "                print(f'success after n_iter={n_iter+1}')\n",
    "            return x0\n",
    "\n",
    "    if max_iter_action == 'fail':\n",
    "        raise IterationLimitError(\n",
    "            \"Maximum number of iterations reached and still |f|>err:\\n\"\n",
    "            f\"    max_iter = {max_iter}\\n\"\n",
    "            f\"    x        = {x0}\\n\"\n",
    "            f\"    step     = {np.linalg.norm(v)}\\n\"\n",
    "            f\"    f        = {f_value} +/- {err(x0)}\")"
   ]
  },
  {
   "cell_type": "markdown",
   "metadata": {},
   "source": [
    "### Testing Newton's method:"
   ]
  },
  {
   "cell_type": "code",
   "execution_count": null,
   "metadata": {},
   "outputs": [],
   "source": [
    "def f(x):\n",
    "    return x**2 - 2\n",
    "\n",
    "def df(x):\n",
    "    return 2*x\n",
    "\n",
    "eps = np.finfo(float).eps\n",
    "def err(x):\n",
    "    # the value calculated is (x²(1+eps) - 2)(1+eps) =\n",
    "    # = (x²-2) + O( 2 * (x²+1) * eps )\n",
    "    return 2 * (x**2 + 1) * eps\n",
    "\n",
    "sqrt2 = newton(f, df, err, x0=2, verbose=True)\n",
    "print(sqrt2)\n",
    "print(sqrt2 - np.sqrt(2))"
   ]
  },
  {
   "cell_type": "code",
   "execution_count": null,
   "metadata": {},
   "outputs": [],
   "source": [
    "sqrt2 = newton(f, df, err, x0=10, verbose=True)\n",
    "print(sqrt2)\n",
    "print(sqrt2 - np.sqrt(2))"
   ]
  },
  {
   "cell_type": "code",
   "execution_count": null,
   "metadata": {},
   "outputs": [],
   "source": [
    "def err(x):\n",
    "    return eps\n",
    "\n",
    "sqrt2 = newton(f, df, err, x0=2, verbose=True)\n",
    "print(sqrt2)\n",
    "print(sqrt2 - np.sqrt(2))"
   ]
  },
  {
   "cell_type": "code",
   "execution_count": null,
   "metadata": {},
   "outputs": [],
   "source": [
    "def f(x):\n",
    "    # gradient of the rosenbrok function\n",
    "    yx2 = x[1] - x[0]**2\n",
    "    return [2*(x[0] - 1) - 400*x[0]*yx2,\n",
    "            200 * yx2]\n",
    "\n",
    "def df(x):\n",
    "    # Hessian of rosenbrok\n",
    "    Rxx = 2 + 400*(3*x[0]**2 - x[1])\n",
    "    Rxy = -400 * x[0]\n",
    "    Ryy = 200\n",
    "    return [[Rxx, Rxy], [Rxy, Ryy]]\n",
    "\n",
    "def err(x):\n",
    "    return [4*(1 + x[0] + 400*x[0]*(x[0]**2+x[1])) * eps,\n",
    "            (3*x[0]**2 + 2*x[1]) * eps]\n",
    "\n",
    "minimum = newton(f, df, err, x0=[7, 13], verbose=True)\n",
    "print(minimum)\n",
    "print(minimum - [1,1])"
   ]
  },
  {
   "cell_type": "code",
   "execution_count": null,
   "metadata": {},
   "outputs": [],
   "source": [
    "minimum = newton(f, df, err, x0=[10, 100], verbose=True)\n",
    "print(minimum)\n",
    "print(minimum - [1,1])"
   ]
  },
  {
   "cell_type": "markdown",
   "metadata": {},
   "source": [
    "### Implicit Euler method"
   ]
  },
  {
   "cell_type": "markdown",
   "metadata": {},
   "source": [
    "$$\\begin{gather}\n",
    "f(S,I,R) = (-\\beta S I, \\beta SI - \\gamma I, \\gamma I) \\qquad(1)\\\\\n",
    "(S_1,I_1,R_1) = (S, I, R) + dt \\cdot f(S_1,I_1,R_1) \\qquad(2)\\\\\n",
    "f=(f_S, f_I, f_R) \\qquad(3)\\\\\n",
    "\\begin{bmatrix}\n",
    "S_1 - S - dt\\cdot f_S(S_1,I_1,R_1) \\\\\n",
    "I_1 - I - dt\\cdot f_I(S_1,I_1,R_1) \\\\\n",
    "R_1 - R - dt\\cdot f_R(S_1,I_1,R_1)\n",
    "\\end{bmatrix} = 0 \\qquad(4)\\\\\n",
    "\\end{gather}$$"
   ]
  },
  {
   "cell_type": "code",
   "execution_count": null,
   "metadata": {},
   "outputs": [],
   "source": [
    "def implicit_euler(f, J, err, x0, dt, N, verbose_newton=False):\n",
    "    # f: the function in the diff. equation x' = f(x)\n",
    "    # J: the jacobian of f\n",
    "    # x0: initial point\n",
    "    # dt: time step\n",
    "    # N: number of samples (i.e. number of time steps)\n",
    "    dim = len(x0)  # dimension of phase space\n",
    "    x = np.empty((N+1, dim))\n",
    "    x[0] = x0\n",
    "    for i in range(N):\n",
    "        def implicit_eq(v):\n",
    "            # 'v' stands for x[i+1]\n",
    "            return v - x[i] - dt*f(v)\n",
    "        def jacobian_eq(v):\n",
    "            return np.eye(dim) - dt*J(v)\n",
    "        def err_eq(v):\n",
    "            return (np.abs(v) + np.abs(x[i]) +\n",
    "                    np.abs(dt*f(v)))*2*eps + \\\n",
    "                    dt*err(v)\n",
    "        if verbose_newton:\n",
    "            print('\\n\\n\\n==================\\n')\n",
    "        x[i+1] = newton(implicit_eq, jacobian_eq, err_eq, x0=x[i],\n",
    "                        verbose=verbose_newton)\n",
    "    return x"
   ]
  },
  {
   "cell_type": "markdown",
   "metadata": {},
   "source": [
    "### Apply the method to SIR"
   ]
  },
  {
   "cell_type": "code",
   "execution_count": null,
   "metadata": {},
   "outputs": [],
   "source": [
    "beta = 2.5\n",
    "gamma = 0.8\n",
    "\n",
    "def SIR(I0=0.0001,\n",
    "        dt=1/24,  # default time step = 1 hour\n",
    "        days=20,\n",
    "        beta=beta,\n",
    "        gamma=gamma,\n",
    "        verbose_newton=False):\n",
    "    \n",
    "    def f(x):\n",
    "        S, I, R = x\n",
    "        return np.array([-beta*S*I,\n",
    "                          beta*S*I - gamma*I,\n",
    "                          gamma*I])\n",
    "    def J(x):\n",
    "        S, I, R = x\n",
    "        return np.array([[-beta*I, -beta*S,         0],\n",
    "                         [ beta*I,  beta*S - gamma, 0],\n",
    "                         [ 0,       gamma,          0]])\n",
    "    def err(x):\n",
    "        S, I, R = x\n",
    "        return np.array([2*beta*S*I,\n",
    "                         3*beta*S*I + 2*gamma*I,\n",
    "                         gamma*I]) * eps\n",
    "    \n",
    "    n_samples = int(days//dt)\n",
    "    t = np.arange(n_samples + 1) * dt\n",
    "    x0 = np.array([1 - I0, I0, 0])\n",
    "    \n",
    "    x = implicit_euler(f, J, err, x0, dt, n_samples,\n",
    "                       verbose_newton=verbose_newton)\n",
    "    return t, x"
   ]
  },
  {
   "cell_type": "code",
   "execution_count": null,
   "metadata": {},
   "outputs": [],
   "source": [
    "# Testing\n",
    "t, x = SIR(days=5/24, verbose_newton=True)"
   ]
  },
  {
   "cell_type": "code",
   "execution_count": null,
   "metadata": {},
   "outputs": [],
   "source": [
    "%%time\n",
    "t, x = SIR(dt=1/24)"
   ]
  },
  {
   "cell_type": "code",
   "execution_count": null,
   "metadata": {},
   "outputs": [],
   "source": [
    "%%time\n",
    "\n",
    "# Generate another solution, from the built-in scipy solver\n",
    "\n",
    "def f(_, x):\n",
    "    S, I, R = x\n",
    "    return np.array([-beta*S*I,\n",
    "                      beta*S*I - gamma*I,\n",
    "                      gamma*I])\n",
    "def J(_, x):\n",
    "    S, I, R = x\n",
    "    return np.array([[-beta*I, -beta*S,         0],\n",
    "                     [ beta*I,  beta*S - gamma, 0],\n",
    "                     [ 0,       gamma,          0]])\n",
    "\n",
    "solver = integrate.ode(f, J)\n",
    "\n",
    "x_scipy = np.empty(x.shape)\n",
    "x_scipy[0] = x[0]\n",
    "solver.set_initial_value(x[0]);\n",
    "\n",
    "for i in range(1, len(x_scipy)):\n",
    "    if not solver.successful():\n",
    "        solver_vars = f'{solver.t=} {solver.y=}'\n",
    "        raise RuntimeError(f'ODE solver error: {solver_vars}')\n",
    "    x_scipy[i] = solver.integrate(t[i])"
   ]
  },
  {
   "cell_type": "code",
   "execution_count": null,
   "metadata": {},
   "outputs": [],
   "source": [
    "fig, ax = plt.subplots(3, 1, sharex=True, figsize=(10,21))\n",
    "\n",
    "l = ax[0].plot(t, x)\n",
    "ax[0].set_prop_cycle(None)  # reset color cycle\n",
    "l_scipy = ax[0].plot(t, x_scipy, ':')\n",
    "ax[0].legend([tuple(l), tuple(l_scipy)],\n",
    "          [\"S, I, R (implicit euler)\", \"S, I, R (scipy)\"],\n",
    "          handler_map={tuple: HandlerTuple(ndivide=None)})\n",
    "ax[0].grid()\n",
    "\n",
    "l = ax[1].plot(t, x-x_scipy)\n",
    "l_norm = ax[1].plot(t, np.linalg.norm(x-x_scipy, axis=1), color='k')\n",
    "ax[1].grid()\n",
    "ax[1].legend([tuple(l), tuple(l_norm)],\n",
    "          [\"S, I, R errors\", \"total (norm of) error\"],\n",
    "          handler_map={tuple: HandlerTuple(ndivide=None)})\n",
    "ax[1].set_title(\"absolute error\")\n",
    "\n",
    "l = ax[2].plot(t, x/x_scipy-1)\n",
    "l_norm = ax[2].plot(t, np.linalg.norm(x-x_scipy, axis=1) / \\\n",
    "                       np.linalg.norm(x_scipy, axis=1),\n",
    "                    color='k')\n",
    "ax[2].grid()\n",
    "ax[2].legend([tuple(l), tuple(l_norm)],\n",
    "          [\"S, I, R errors\", \"total (norm of) error\"],\n",
    "          handler_map={tuple: HandlerTuple(ndivide=None)})\n",
    "ax[2].set_title(\"relative error\");"
   ]
  },
  {
   "cell_type": "markdown",
   "metadata": {},
   "source": [
    "## Plotting Curves for multiple values of Beta and Gamma"
   ]
  },
  {
   "cell_type": "code",
   "execution_count": null,
   "metadata": {},
   "outputs": [],
   "source": [
    "@interact_manual(I0=(0.0, 1.0, 0.01), \n",
    "                 dt=(0.1, 2))\n",
    "def draw_SIR_curves(I0 = 0.11,\n",
    "                    dt = 0.1,\n",
    "                    days = 20,\n",
    "                    beta = 2.5,\n",
    "                    gamma = 0.8):\n",
    "    t, x = SIR(I0, dt, days, beta, gamma)\n",
    "    S, I, R = x.T\n",
    "    t = [dt*i for i in range(len(S))]\n",
    "    fig = plt.figure(figsize=(12,8))\n",
    "    l1, l2, l3 = plt.plot(t, S, t, I, t, R)\n",
    "    fig.legend((l1, l2, l3), ('S', 'I', 'R'), 'center right')\n",
    "    plt.xlabel('Time')\n",
    "    plt.ylabel('% population')\n",
    "    plt.show()"
   ]
  },
  {
   "cell_type": "markdown",
   "metadata": {},
   "source": [
    "## Ploting orbits in the triangle S + I <= 1 (Autonomous system of ODE)"
   ]
  },
  {
   "cell_type": "code",
   "execution_count": null,
   "metadata": {},
   "outputs": [],
   "source": [
    "@interact_manual(samples=(2, 50, 1), \n",
    "                 dt=(0.1, 2),\n",
    "                days=20)\n",
    "def draw_SI_relation(samples = 11,\n",
    "                    dt = 0.1,\n",
    "                    days = 20,\n",
    "                    beta = 2.5,\n",
    "                    gamma = 0.8):\n",
    "    s_list = []\n",
    "    i_list = []\n",
    "    for i0 in np.linspace(0, 1.0, samples):\n",
    "        t, x = SIR(i0, dt, days, beta, gamma)\n",
    "        S, I, R = x.T\n",
    "        s_list.append(S)\n",
    "        i_list.append(I)\n",
    "        \n",
    "\n",
    "    fig = plt.figure(figsize=(10, 10))\n",
    "    plt.plot([0.0, 1.0], [1.0, 0.0], 'gray')\n",
    "    for k in range(len(s_list)):\n",
    "        plt.plot(s_list[k], i_list[k], 'blue' if k%2 else '#0000ff80')\n",
    "        \n",
    "    for i0 in np.linspace(0.0, 0.1, int(samples/2)):\n",
    "        t, x = SIR(i0, dt, days, beta, gamma)\n",
    "        S, I, R = x.T\n",
    "        plt.plot(S, I, 'red' if k%2 else '#ff000080')\n",
    "        \n",
    "    plt.xlabel('Susceptible')\n",
    "    plt.ylabel('Infected')\n",
    "    plt.show()"
   ]
  },
  {
   "cell_type": "markdown",
   "metadata": {},
   "source": [
    "## Comparing Euler Method with and without Predictor-Corrector technique"
   ]
  },
  {
   "cell_type": "markdown",
   "metadata": {},
   "source": [
    "(TODO: compare all three: euler implicit, euler predictor-corrector, and eu"
   ]
  },
  {
   "cell_type": "code",
   "execution_count": null,
   "metadata": {},
   "outputs": [],
   "source": [
    "@interact_manual(I0=(0.0, 1.0, 0.01), \n",
    "                 dt=(0.1, 2),\n",
    "                 show=['all', 'S', 'I', 'R'])\n",
    "def compare_methods(I0 = 0.11,\n",
    "                    dt = 1,\n",
    "                    days = 20,\n",
    "                    beta = 2.5,\n",
    "                    gamma = 0.8,\n",
    "                    show='all'):\n",
    "    \n",
    "    fe_sir = SIR(I0, dt, days, beta, gamma, False)\n",
    "    pc_sir = SIR(I0, dt, days, beta, gamma, True)\n",
    "    t =  [dt*i for i in range(len(fe_sir[0]))]\n",
    "    legends =['S', 'I', 'R']\n",
    "    \n",
    "    fig, ax = plt.subplots(1, 3, figsize=(28,8)) if show == 'all' else (plt.figure(figsize=(16,8)), None)\n",
    "    if show == 'all':\n",
    "        for index in range(len(fe_sir)):\n",
    "            ax[index].plot(t, fe_sir[index], label='{} FE'.format(legends[index]))\n",
    "            ax[index].plot(t, pc_sir[index], label='{} P-C'.format(legends[index]))\n",
    "            ax[index].legend(loc= 'center right')\n",
    "    else:\n",
    "        index = legends.index(show)\n",
    "        plt.plot(t, fe_sir[index], label='{} FE'.format(legends[index]))\n",
    "        plt.plot(t, pc_sir[index], label='{} P-C'.format(legends[index]))\n",
    "        fig.legend(loc= 'center right')\n",
    "        \n",
    "    fig.suptitle('Comparinson between methods for ODE')\n",
    "    plt.xlabel('Time')\n",
    "    plt.ylabel('Population')\n",
    "    plt.show()\n",
    "    "
   ]
  },
  {
   "cell_type": "code",
   "execution_count": null,
   "metadata": {},
   "outputs": [],
   "source": []
  }
 ],
 "metadata": {
  "kernelspec": {
   "display_name": "Python 3",
   "language": "python",
   "name": "python3"
  },
  "language_info": {
   "codemirror_mode": {
    "name": "ipython",
    "version": 3
   },
   "file_extension": ".py",
   "mimetype": "text/x-python",
   "name": "python",
   "nbconvert_exporter": "python",
   "pygments_lexer": "ipython3",
   "version": "3.8.2"
  }
 },
 "nbformat": 4,
 "nbformat_minor": 4
}
