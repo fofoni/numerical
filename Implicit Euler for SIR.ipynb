{
 "cells": [
  {
   "cell_type": "markdown",
   "metadata": {},
   "source": [
    "# Numerical Analysis - IMPA 2020\n",
    "### Professor Dan Marchesin\n",
    "### Hallison Paz, 1st year Phd student\n",
    "### Pedro Fonini, 2nd year MSc student"
   ]
  },
  {
   "cell_type": "markdown",
   "metadata": {},
   "source": [
    "# Modeling epidemics with SIR model"
   ]
  },
  {
   "cell_type": "code",
   "execution_count": null,
   "metadata": {},
   "outputs": [],
   "source": [
    "import numpy as np\n",
    "import matplotlib.pyplot as plt\n",
    "from ipywidgets import interact, interact_manual"
   ]
  },
  {
   "cell_type": "code",
   "execution_count": null,
   "metadata": {},
   "outputs": [],
   "source": [
    "import os\n",
    "OUTPUT_DIR = os.path.join('images', 'SIR')"
   ]
  },
  {
   "cell_type": "markdown",
   "metadata": {},
   "source": [
    "## Solving SIR model using Euler Method"
   ]
  },
  {
   "cell_type": "code",
   "execution_count": null,
   "metadata": {},
   "outputs": [],
   "source": [
    "def SIR(I0=0.0001,\n",
    "        dt = 1,\n",
    "        days = 20,\n",
    "        beta=2.5, \n",
    "        gamma=0.8,\n",
    "        corrector=False):\n",
    "\n",
    "    n_samples = int(days/dt) + 1\n",
    "    t = np.linspace(0, days, n_samples)\n",
    "\n",
    "    S = np.zeros(n_samples)\n",
    "    I = np.zeros(n_samples)\n",
    "    R = np.zeros(n_samples)\n",
    "    # Initial condition\n",
    "    R[0] = 0\n",
    "    I[0] = I0\n",
    "    S[0] = 1 - I0\n",
    "\n",
    "    # Step equations forward in time\n",
    "    for n in range(len(t)-1):\n",
    "        # predictor\n",
    "        S[n+1] = S[n] - dt*beta*S[n]*I[n]\n",
    "        I[n+1] = I[n] + dt*beta*S[n]*I[n] - dt*gamma*I[n] \n",
    "        R[n+1] = R[n] + dt*gamma*I[n]\n",
    "        if corrector:\n",
    "            S[n+1] = S[n] - dt*beta*S[n+1]*I[n+1]\n",
    "            I[n+1] = I[n] + dt*beta*S[n+1]*I[n+1] - dt*gamma*I[n+1] \n",
    "            R[n+1] = R[n] + dt*gamma*I[n+1]\n",
    "    # R0 = beta*S[0]/gamma\n",
    "    # print('R0', R0)\n",
    "    return S, I, R"
   ]
  },
  {
   "cell_type": "code",
   "execution_count": null,
   "metadata": {},
   "outputs": [],
   "source": [
    "# Initial condition (S0 and R0 are determided by I0)\n",
    "I0 = 0.1\n",
    "# Parameters\n",
    "dt = 1\n",
    "days = 20\n",
    "beta = 2.5\n",
    "gamma = 0.8 \n",
    "# simulations = {}\n",
    "S, I, R = SIR(I0, dt, days, beta, gamma)"
   ]
  },
  {
   "cell_type": "markdown",
   "metadata": {},
   "source": [
    "## Plotting Curves for multiple values of Beta and Gamma"
   ]
  },
  {
   "cell_type": "code",
   "execution_count": null,
   "metadata": {},
   "outputs": [],
   "source": [
    "@interact_manual(I0=(0.0, 1.0, 0.01), \n",
    "                 dt=(0.1, 2))\n",
    "def draw_SIR_curves(I0 = 0.11,\n",
    "                    dt = 1,\n",
    "                    days = 20,\n",
    "                    beta = 2.5,\n",
    "                    gamma = 0.8,\n",
    "                    corrector = False):\n",
    "    S, I, R = SIR(I0, dt, days, beta, gamma, corrector)\n",
    "    t = [dt*i for i in range(len(S))]\n",
    "    fig = plt.figure(figsize=(12,8))\n",
    "    l1, l2, l3 = plt.plot(t, S, t, I, t, R)\n",
    "    fig.legend((l1, l2, l3), ('S', 'I', 'R'), 'center right')\n",
    "    plt.xlabel('Time')\n",
    "    plt.ylabel('% population')\n",
    "    plt.show()"
   ]
  },
  {
   "cell_type": "markdown",
   "metadata": {},
   "source": [
    "## Ploting orbits in the triangle S + I <= 1 (Autonomous system of ODE)"
   ]
  },
  {
   "cell_type": "code",
   "execution_count": null,
   "metadata": {},
   "outputs": [],
   "source": [
    "@interact_manual(samples=(2, 50, 1), \n",
    "                 dt=(0.1, 2),\n",
    "                days=20)\n",
    "def draw_SI_relation(samples = 11,\n",
    "                    dt = 0.1,\n",
    "                    days = 20,\n",
    "                    beta = 2.5,\n",
    "                    gamma = 0.8,\n",
    "                    corrector = False):\n",
    "    s_list = []\n",
    "    i_list = []\n",
    "    for i0 in np.linspace(0, 1.0, samples):\n",
    "        S, I, R = SIR(i0, dt, days, beta, gamma, corrector)\n",
    "        s_list.append(S)\n",
    "        i_list.append(I)\n",
    "        \n",
    "\n",
    "    fig = plt.figure(figsize=(10, 10))\n",
    "    plt.plot([0.0, 1.0], [1.0, 0.0], 'gray')\n",
    "    for k in range(len(s_list)):\n",
    "        plt.plot(s_list[k], i_list[k], 'blue' if k%2 else '#0000ff80')\n",
    "        \n",
    "    for i0 in np.linspace(0.0, 0.1, int(samples/2)):\n",
    "        S, I, R = SIR(i0, dt, days, beta, gamma, corrector)\n",
    "        plt.plot(S, I, 'red' if k%2 else '#ff000080')\n",
    "        \n",
    "    plt.xlabel('Susceptible')\n",
    "    plt.ylabel('Infected')\n",
    "    plt.show()"
   ]
  },
  {
   "cell_type": "markdown",
   "metadata": {},
   "source": [
    "## Comparing Euler Method with and without Predictor-Corrector technique"
   ]
  },
  {
   "cell_type": "code",
   "execution_count": null,
   "metadata": {},
   "outputs": [],
   "source": [
    "@interact_manual(I0=(0.0, 1.0, 0.01), \n",
    "                 dt=(0.1, 2),\n",
    "                 show=['all', 'S', 'I', 'R'])\n",
    "def compare_methods(I0 = 0.11,\n",
    "                    dt = 1,\n",
    "                    days = 20,\n",
    "                    beta = 2.5,\n",
    "                    gamma = 0.8,\n",
    "                    show='all'):\n",
    "    \n",
    "    fe_sir = SIR(I0, dt, days, beta, gamma, False)\n",
    "    pc_sir = SIR(I0, dt, days, beta, gamma, True)\n",
    "    t =  [dt*i for i in range(len(fe_sir[0]))]\n",
    "    legends =['S', 'I', 'R']\n",
    "    \n",
    "    fig, ax = plt.subplots(1, 3, figsize=(28,8)) if show == 'all' else (plt.figure(figsize=(16,8)), None)\n",
    "    if show == 'all':\n",
    "        for index in range(len(fe_sir)):\n",
    "            ax[index].plot(t, fe_sir[index], label='{} FE'.format(legends[index]))\n",
    "            ax[index].plot(t, pc_sir[index], label='{} P-C'.format(legends[index]))\n",
    "            ax[index].legend(loc= 'center right')\n",
    "    else:\n",
    "        index = legends.index(show)\n",
    "        plt.plot(t, fe_sir[index], label='{} FE'.format(legends[index]))\n",
    "        plt.plot(t, pc_sir[index], label='{} P-C'.format(legends[index]))\n",
    "        fig.legend(loc= 'center right')\n",
    "        \n",
    "    fig.suptitle('Comparinson between methods for ODE')\n",
    "    plt.xlabel('Time')\n",
    "    plt.ylabel('Population')\n",
    "    plt.show()\n",
    "    "
   ]
  },
  {
   "cell_type": "code",
   "execution_count": null,
   "metadata": {},
   "outputs": [],
   "source": []
  }
 ],
 "metadata": {
  "kernelspec": {
   "display_name": "Python 3",
   "language": "python",
   "name": "python3"
  },
  "language_info": {
   "codemirror_mode": {
    "name": "ipython",
    "version": 3
   },
   "file_extension": ".py",
   "mimetype": "text/x-python",
   "name": "python",
   "nbconvert_exporter": "python",
   "pygments_lexer": "ipython3",
   "version": "3.7.7"
  }
 },
 "nbformat": 4,
 "nbformat_minor": 4
}
