{
 "cells": [
  {
   "cell_type": "markdown",
   "metadata": {},
   "source": [
    "# Numerical Analysis - IMPA 2020\n",
    "### Professor Dan Marchesin\n",
    "### Hallison Paz, 1st year Phd student\n",
    "### Pedro Fonini, 2nd year MSc student"
   ]
  },
  {
   "cell_type": "markdown",
   "metadata": {},
   "source": [
    "# Modeling epidemics with SIR model"
   ]
  },
  {
   "cell_type": "code",
   "execution_count": null,
   "metadata": {},
   "outputs": [],
   "source": [
    "import os\n",
    "\n",
    "import numpy as np\n",
    "from scipy import linalg\n",
    "import matplotlib.pyplot as plt\n",
    "from ipywidgets import interact, interact_manual"
   ]
  },
  {
   "cell_type": "code",
   "execution_count": null,
   "metadata": {},
   "outputs": [],
   "source": [
    "OUTPUT_DIR = os.path.join('images', 'SIR')"
   ]
  },
  {
   "cell_type": "markdown",
   "metadata": {},
   "source": [
    "## Newton's method"
   ]
  },
  {
   "cell_type": "code",
   "execution_count": null,
   "metadata": {},
   "outputs": [],
   "source": [
    "class IterationLimitError(Exception):\n",
    "    \"\"\"Exception type for too many iterations.\n",
    "    \n",
    "    Signals that we have reached the maximum allowed number of\n",
    "    iterations for an iterative numerical method.\"\"\""
   ]
  },
  {
   "cell_type": "code",
   "execution_count": null,
   "metadata": {},
   "outputs": [],
   "source": [
    "def newton(f, df, err, x0, max_iter=10,\n",
    "           max_iter_action='fail', verbose=False):\n",
    "    \"\"\"Newton's method for solving the equation f(x)=0.\n",
    "    \n",
    "    x0: initial guess; shape (N,)\n",
    "    f: callable; vector valued function of x.\n",
    "        input: shape (N,)\n",
    "        output: shape (N,)\n",
    "    df: callable; for each x, returns the jacobian matrix of f at x.\n",
    "        input: shape (N,)\n",
    "        output: shape (N, N)\n",
    "    err: callable; for each x, return the expected error in the\n",
    "            numerical evaluation of f(x).\n",
    "        input: shape (N,)\n",
    "        output: shape (N,), non-negative entries\n",
    "    max_iter: integer; the maximum allowed number of iterations\n",
    "    max_iter_action: action to be taken upon reaching the maximum number\n",
    "            of iterations. 'return' if we should return the best guess\n",
    "            up to now; or 'fail' if we should not return and raise an\n",
    "            expection.\n",
    "    \"\"\"\n",
    "    f_value = f(x0)\n",
    "\n",
    "    for n_iter in range(max_iter):\n",
    "        x0 = x0 - linalg.solve(df(x0), f_value)\n",
    "        f_value = f(x0)\n",
    "        if np.all(np.abs(f_value) <= err(x0)):\n",
    "            # f(x0) is so small that it could already be zero, it's\n",
    "            # impossible to know, so we might as well stop here.\n",
    "            if verbose:\n",
    "                print(f'success after n_iter={n_iter}')\n",
    "            return x0\n",
    "\n",
    "    if max_iter_action == 'fail':\n",
    "        raise IterationLimitError(\n",
    "            \"Maximum number of iterations reached and still |f|>err:\\n\"\n",
    "            f\"    max_iter = {max_iter}\\n\"\n",
    "            f\"    x = {x0}\\n\"\n",
    "            f\"    f = {f_value} +/- {err(x0)}\")"
   ]
  },
  {
   "cell_type": "markdown",
   "metadata": {},
   "source": [
    "### Testing Newton's method:"
   ]
  },
  {
   "cell_type": "code",
   "execution_count": null,
   "metadata": {},
   "outputs": [],
   "source": [
    "def f(x):\n",
    "    return x**2 - 10\n",
    "\n",
    "def df(x):\n",
    "    return 2*x\n",
    "\n",
    "eps = np.finfo(float).eps\n",
    "def err(x):\n",
    "    # the value calculated is (x²(1+eps) - 2)(1+eps) =\n",
    "    # = (x²-2) + ((2+eps)x² - 2)eps\n",
    "    return 2 * np.abs(x**2 + 1) * eps\n",
    "\n",
    "sqrt10 = newton(f, df, err, x0=10, verbose=True)\n",
    "print(sqrt10)\n",
    "print(sqrt10 - np.sqrt(10))"
   ]
  },
  {
   "cell_type": "code",
   "execution_count": null,
   "metadata": {},
   "outputs": [],
   "source": [
    "def err(x):\n",
    "    return eps\n",
    "\n",
    "sqrt10 = newton(f, df, err, x0=10, verbose=True)\n",
    "print(sqrt10)\n",
    "print(sqrt10 - np.sqrt(10))"
   ]
  },
  {
   "cell_type": "code",
   "execution_count": null,
   "metadata": {},
   "outputs": [],
   "source": [
    "def f(x):\n",
    "    # gradient of the rosenbrok function\n",
    "    yx2 = x[1] - x[0]**2\n",
    "    return [2*(x[0] - 1) - 400*x[0]*yx2,\n",
    "            200 * yx2]\n",
    "\n",
    "def df(x):\n",
    "    # Hessian of rosenbrok\n",
    "    Rxx = 2 + 400*(3*x[0]**2 - x[1])\n",
    "    Rxy = -400 * x[0]\n",
    "    Ryy = 200\n",
    "    return [[Rxx, Rxy], [Rxy, Ryy]]\n",
    "\n",
    "def err(x):\n",
    "    return [4*(1 + x[0] + 400*x[0]*(x[0]**2+x[1])) * eps,\n",
    "            (3*x[0]**2 + 2*x[1]) * eps]\n",
    "\n",
    "minimum = newton(f, df, err, x0=[7, 13], verbose=True)\n",
    "print(minimum)\n",
    "print(minimum - [1,1])"
   ]
  },
  {
   "cell_type": "markdown",
   "metadata": {},
   "source": [
    "### Implicit Euler method"
   ]
  },
  {
   "cell_type": "markdown",
   "metadata": {},
   "source": [
    "(TO DO)"
   ]
  },
  {
   "cell_type": "markdown",
   "metadata": {},
   "source": [
    "### Apply the method to SIR"
   ]
  },
  {
   "cell_type": "markdown",
   "metadata": {},
   "source": [
    "(TO DO)"
   ]
  },
  {
   "cell_type": "code",
   "execution_count": null,
   "metadata": {},
   "outputs": [],
   "source": [
    "def SIR(I0=0.0001,\n",
    "        dt = 1,\n",
    "        days = 20,\n",
    "        beta=2.5, \n",
    "        gamma=0.8,\n",
    "        corrector=False):\n",
    "\n",
    "    n_samples = int(days/dt) + 1\n",
    "    t = np.linspace(0, days, n_samples)\n",
    "\n",
    "    S = np.zeros(n_samples)\n",
    "    I = np.zeros(n_samples)\n",
    "    R = np.zeros(n_samples)\n",
    "    # Initial condition\n",
    "    R[0] = 0\n",
    "    I[0] = I0\n",
    "    S[0] = 1 - I0\n",
    "\n",
    "    # Step equations forward in time\n",
    "    for n in range(len(t)-1):\n",
    "        # predictor\n",
    "        S[n+1] = S[n] - dt*beta*S[n]*I[n]\n",
    "        I[n+1] = I[n] + dt*beta*S[n]*I[n] - dt*gamma*I[n] \n",
    "        R[n+1] = R[n] + dt*gamma*I[n]\n",
    "        if corrector:\n",
    "            S[n+1] = S[n] - dt*beta*S[n+1]*I[n+1]\n",
    "            I[n+1] = I[n] + dt*beta*S[n+1]*I[n+1] - dt*gamma*I[n+1] \n",
    "            R[n+1] = R[n] + dt*gamma*I[n+1]\n",
    "    # R0 = beta*S[0]/gamma\n",
    "    # print('R0', R0)\n",
    "    return S, I, R"
   ]
  },
  {
   "cell_type": "code",
   "execution_count": null,
   "metadata": {},
   "outputs": [],
   "source": [
    "# Initial condition (S0 and R0 are determided by I0)\n",
    "I0 = 0.1\n",
    "# Parameters\n",
    "dt = 1\n",
    "days = 20\n",
    "beta = 2.5\n",
    "gamma = 0.8 \n",
    "# simulations = {}\n",
    "S, I, R = SIR(I0, dt, days, beta, gamma)"
   ]
  },
  {
   "cell_type": "markdown",
   "metadata": {},
   "source": [
    "## Plotting Curves for multiple values of Beta and Gamma"
   ]
  },
  {
   "cell_type": "code",
   "execution_count": null,
   "metadata": {},
   "outputs": [],
   "source": [
    "@interact_manual(I0=(0.0, 1.0, 0.01), \n",
    "                 dt=(0.1, 2))\n",
    "def draw_SIR_curves(I0 = 0.11,\n",
    "                    dt = 1,\n",
    "                    days = 20,\n",
    "                    beta = 2.5,\n",
    "                    gamma = 0.8,\n",
    "                    corrector = False):\n",
    "    S, I, R = SIR(I0, dt, days, beta, gamma, corrector)\n",
    "    t = [dt*i for i in range(len(S))]\n",
    "    fig = plt.figure(figsize=(12,8))\n",
    "    l1, l2, l3 = plt.plot(t, S, t, I, t, R)\n",
    "    fig.legend((l1, l2, l3), ('S', 'I', 'R'), 'center right')\n",
    "    plt.xlabel('Time')\n",
    "    plt.ylabel('% population')\n",
    "    plt.show()"
   ]
  },
  {
   "cell_type": "markdown",
   "metadata": {},
   "source": [
    "## Ploting orbits in the triangle S + I <= 1 (Autonomous system of ODE)"
   ]
  },
  {
   "cell_type": "code",
   "execution_count": null,
   "metadata": {},
   "outputs": [],
   "source": [
    "@interact_manual(samples=(2, 50, 1), \n",
    "                 dt=(0.1, 2),\n",
    "                days=20)\n",
    "def draw_SI_relation(samples = 11,\n",
    "                    dt = 0.1,\n",
    "                    days = 20,\n",
    "                    beta = 2.5,\n",
    "                    gamma = 0.8,\n",
    "                    corrector = False):\n",
    "    s_list = []\n",
    "    i_list = []\n",
    "    for i0 in np.linspace(0, 1.0, samples):\n",
    "        S, I, R = SIR(i0, dt, days, beta, gamma, corrector)\n",
    "        s_list.append(S)\n",
    "        i_list.append(I)\n",
    "        \n",
    "\n",
    "    fig = plt.figure(figsize=(10, 10))\n",
    "    plt.plot([0.0, 1.0], [1.0, 0.0], 'gray')\n",
    "    for k in range(len(s_list)):\n",
    "        plt.plot(s_list[k], i_list[k], 'blue' if k%2 else '#0000ff80')\n",
    "        \n",
    "    for i0 in np.linspace(0.0, 0.1, int(samples/2)):\n",
    "        S, I, R = SIR(i0, dt, days, beta, gamma, corrector)\n",
    "        plt.plot(S, I, 'red' if k%2 else '#ff000080')\n",
    "        \n",
    "    plt.xlabel('Susceptible')\n",
    "    plt.ylabel('Infected')\n",
    "    plt.show()"
   ]
  },
  {
   "cell_type": "markdown",
   "metadata": {},
   "source": [
    "## Comparing Euler Method with and without Predictor-Corrector technique"
   ]
  },
  {
   "cell_type": "code",
   "execution_count": null,
   "metadata": {},
   "outputs": [],
   "source": [
    "@interact_manual(I0=(0.0, 1.0, 0.01), \n",
    "                 dt=(0.1, 2),\n",
    "                 show=['all', 'S', 'I', 'R'])\n",
    "def compare_methods(I0 = 0.11,\n",
    "                    dt = 1,\n",
    "                    days = 20,\n",
    "                    beta = 2.5,\n",
    "                    gamma = 0.8,\n",
    "                    show='all'):\n",
    "    \n",
    "    fe_sir = SIR(I0, dt, days, beta, gamma, False)\n",
    "    pc_sir = SIR(I0, dt, days, beta, gamma, True)\n",
    "    t =  [dt*i for i in range(len(fe_sir[0]))]\n",
    "    legends =['S', 'I', 'R']\n",
    "    \n",
    "    fig, ax = plt.subplots(1, 3, figsize=(28,8)) if show == 'all' else (plt.figure(figsize=(16,8)), None)\n",
    "    if show == 'all':\n",
    "        for index in range(len(fe_sir)):\n",
    "            ax[index].plot(t, fe_sir[index], label='{} FE'.format(legends[index]))\n",
    "            ax[index].plot(t, pc_sir[index], label='{} P-C'.format(legends[index]))\n",
    "            ax[index].legend(loc= 'center right')\n",
    "    else:\n",
    "        index = legends.index(show)\n",
    "        plt.plot(t, fe_sir[index], label='{} FE'.format(legends[index]))\n",
    "        plt.plot(t, pc_sir[index], label='{} P-C'.format(legends[index]))\n",
    "        fig.legend(loc= 'center right')\n",
    "        \n",
    "    fig.suptitle('Comparinson between methods for ODE')\n",
    "    plt.xlabel('Time')\n",
    "    plt.ylabel('Population')\n",
    "    plt.show()\n",
    "    "
   ]
  },
  {
   "cell_type": "code",
   "execution_count": null,
   "metadata": {},
   "outputs": [],
   "source": []
  }
 ],
 "metadata": {
  "kernelspec": {
   "display_name": "Python 3",
   "language": "python",
   "name": "python3"
  },
  "language_info": {
   "codemirror_mode": {
    "name": "ipython",
    "version": 3
   },
   "file_extension": ".py",
   "mimetype": "text/x-python",
   "name": "python",
   "nbconvert_exporter": "python",
   "pygments_lexer": "ipython3",
   "version": "3.8.2"
  }
 },
 "nbformat": 4,
 "nbformat_minor": 4
}
