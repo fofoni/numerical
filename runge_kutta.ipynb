{
 "cells": [
  {
   "cell_type": "markdown",
   "metadata": {},
   "source": [
    "# Numerical Analysis - IMPA 2020\n",
    "### Professor Dan Marchesin\n",
    "### Hallison Paz, 1st year Phd student\n",
    "### Pedro Fonini, 2nd year MSc student"
   ]
  },
  {
   "cell_type": "code",
   "execution_count": 2,
   "metadata": {},
   "outputs": [],
   "source": [
    "import numpy as np\n",
    "import matplotlib.pyplot as plt\n",
    "import seaborn as sns\n",
    "\n",
    "from ipywidgets import interact, interact_manual"
   ]
  },
  {
   "cell_type": "code",
   "execution_count": 3,
   "metadata": {},
   "outputs": [],
   "source": [
    "sns.set()"
   ]
  },
  {
   "cell_type": "markdown",
   "metadata": {},
   "source": [
    "## Euler Method"
   ]
  },
  {
   "cell_type": "code",
   "execution_count": 37,
   "metadata": {},
   "outputs": [],
   "source": [
    "def euler(f, h, yn, tn):\n",
    "    return yn + h*f(yn, tn)    "
   ]
  },
  {
   "cell_type": "markdown",
   "metadata": {},
   "source": [
    "-------\n",
    "## Runge Kutta method"
   ]
  },
  {
   "cell_type": "code",
   "execution_count": 38,
   "metadata": {},
   "outputs": [],
   "source": [
    "def runge_kutta2(f, h, yn, tn):\n",
    "    k1 = f(yn, tn)\n",
    "    k2 = f(yn + k1, tn + h)\n",
    "    return yn + h*(0.5*k1 + 0.5*k2)\n",
    "\n",
    "def runge_kutta4(f, h, yn, tn):\n",
    "    half_h = h/2\n",
    "    k1 = f(yn, tn)\n",
    "    k2 = f(yn + half_h*k1, tn + half_h)\n",
    "    k3 = f(yn + half_h*k2, tn + half_h)\n",
    "    k4 = f(yn + h*k3, tn + h)\n",
    "    return yn + (h/6)*(k1 + 2*(k2 + k3) + k4)"
   ]
  },
  {
   "cell_type": "code",
   "execution_count": 39,
   "metadata": {},
   "outputs": [],
   "source": [
    "# TODO: System version"
   ]
  },
  {
   "cell_type": "code",
   "execution_count": 40,
   "metadata": {},
   "outputs": [],
   "source": [
    "from math import sin, cos, pi, exp"
   ]
  },
  {
   "cell_type": "code",
   "execution_count": 41,
   "metadata": {},
   "outputs": [],
   "source": [
    "def compare_methods(f, dt, y0=1, start=0, end=2, gt=None, vector=False):\n",
    "    nsamples = int((end - start)/dt) + 1\n",
    "    time = np.linspace(start, end, nsamples)\n",
    "    y_rk2 = np.zeros((nsamples, len(y0))) if vector else np.zeros(nsamples)\n",
    "    y_rk4 = y_rk2.copy()\n",
    "    y_eul = y_rk2.copy()\n",
    "\n",
    "    y_rk2[0] = y0\n",
    "    y_rk4[0] = y0\n",
    "    y_eul[0] = y0\n",
    "    \n",
    "    for n in range(nsamples-1):\n",
    "        y_rk2[n+1] = runge_kutta2(f, dt, y_rk2[n], time[n])\n",
    "        y_rk4[n+1] = runge_kutta4(f, dt, y_rk4[n], time[n])\n",
    "        y_eul[n+1] = euler(f, dt, y_eul[n], time[n])\n",
    "\n",
    "    fig, ax = plt.subplots(1, 2,figsize=(18, 8))\n",
    "    ax[0].plot(time, y_rk2, label='RK 2', color='blue')\n",
    "    ax[0].plot(time, y_rk4, label='RK 4', color='green')\n",
    "    ax[0].plot(time, y_eul, label='Euler', color='orange')\n",
    "    if gt:\n",
    "        ax[0].plot(time, gt(time), 'o', label='GT', color='red')\n",
    "    ax[0].legend()\n",
    "    plt.axvline(0, color='#11111155')\n",
    "    plt.axhline(0, color='#11111155')\n",
    "    plt.xlabel('time')\n",
    "    plt.ylabel('Y')\n",
    "    if gt:\n",
    "        ax[1].plot(time, np.abs(gt(time) - y_rk2), label='Error rk2')\n",
    "        ax[1].plot(time, np.abs(gt(time) - y_rk4), label='Error rk4')\n",
    "        ax[1].legend()\n",
    "    plt.show()"
   ]
  },
  {
   "cell_type": "markdown",
   "metadata": {},
   "source": [
    "### Exercises\n",
    "\n",
    "1) \n",
    "y' = (t/9)cos(2y) + t^2 \n",
    "\n",
    "y(0) = 1\n",
    "\n",
    "t in [0, 2]"
   ]
  },
  {
   "cell_type": "code",
   "execution_count": 42,
   "metadata": {},
   "outputs": [],
   "source": [
    "def exercise1(y, t):\n",
    "    return (t/9)*cos(2*y) + t**2"
   ]
  },
  {
   "cell_type": "code",
   "execution_count": 43,
   "metadata": {},
   "outputs": [
    {
     "data": {
      "application/vnd.jupyter.widget-view+json": {
       "model_id": "0185456b27c742b79fdd1576d3dd3f23",
       "version_major": 2,
       "version_minor": 0
      },
      "text/plain": [
       "interactive(children=(FloatSlider(value=0.5, description='dt', max=2.0, min=0.1, step=0.01), FloatSlider(value…"
      ]
     },
     "metadata": {},
     "output_type": "display_data"
    }
   ],
   "source": [
    "@interact_manual(dt=(0.1, 2, 0.01),\n",
    "                 y0 = (0.0, 5, 0.1),\n",
    "                 start=(0, 10),\n",
    "                 end=(1, 20))\n",
    "def compare_exercise1(dt=0.5, y0=1, start=0, end=2):\n",
    "    compare_methods(exercise1, dt, y0, start, end)"
   ]
  },
  {
   "cell_type": "code",
   "execution_count": 68,
   "metadata": {},
   "outputs": [],
   "source": [
    "def compare_methods_system(f, dt, y0=1, start=0, end=2):\n",
    "    nsamples = int((end - start)/dt) + 1\n",
    "    time = np.linspace(start, end, nsamples)\n",
    "    y_rk2 = np.zeros((nsamples, len(y0)))\n",
    "    y_rk4 = y_rk2.copy()\n",
    "    y_eul = y_rk2.copy()\n",
    "\n",
    "    y_rk2[0] = y0\n",
    "    y_rk4[0] = y0\n",
    "    y_eul[0] = y0\n",
    "    \n",
    "    for n in range(nsamples-1):\n",
    "        y_rk2[n+1] = runge_kutta2(f, dt, y_rk2[n], time[n])\n",
    "        y_rk4[n+1] = runge_kutta4(f, dt, y_rk4[n], time[n])\n",
    "        y_eul[n+1] = euler(f, dt, y_eul[n], time[n])\n",
    "\n",
    "    fig, ax = plt.subplots(len(y0), 1, figsize=(12, 8*len(y0)))\n",
    "    for i in range(len(y0)):\n",
    "        ax[i].plot(time, [y_rk2[j][i] for j in range(len(y_rk2))], label='Z{} RK 2'.format(i), color='blue')\n",
    "        ax[i].plot(time, [y_rk4[j][i] for j in range(len(y_rk4))], label='Z{} RK 4'.format(i), color='green')\n",
    "        ax[i].plot(time, [y_eul[j][i] for j in range(len(y_eul))], label='Z{} Euler'.format(i), color='orange')\n",
    "#     if gt:\n",
    "#         ax[0].plot(time, gt(time), 'o', label='GT', color='red')\n",
    "        ax[i].legend()\n",
    "        plt.axvline(0, color='#11111155')\n",
    "        plt.axhline(0, color='#11111155')\n",
    "        plt.xlabel('time')\n",
    "        plt.ylabel('Z{}'.format(i))\n",
    "#     if gt:\n",
    "#         ax[1].plot(time, np.abs(gt(time) - y_rk2), label='Error rk2')\n",
    "#         ax[1].plot(time, np.abs(gt(time) - y_rk4), label='Error rk4')\n",
    "#         ax[1].legend()\n",
    "    plt.show()"
   ]
  },
  {
   "cell_type": "code",
   "execution_count": 69,
   "metadata": {},
   "outputs": [],
   "source": [
    "# y ''' = t + 2ty''+ 2t^2y, t in [1, 2]\n",
    "# y(1) = 1, y'(1) = 2, y''(1) = 3\n",
    "def exercise2(z, t):\n",
    "    return np.array([z[1], z[2], t + 2*z[2] + 2*(t**2)*z[0]])"
   ]
  },
  {
   "cell_type": "code",
   "execution_count": 71,
   "metadata": {},
   "outputs": [
    {
     "data": {
      "application/vnd.jupyter.widget-view+json": {
       "model_id": "1ada61459a47429392e3610598a0a251",
       "version_major": 2,
       "version_minor": 0
      },
      "text/plain": [
       "interactive(children=(FloatSlider(value=0.5, description='dt', max=2.0, min=0.1, step=0.01), IntSlider(value=1…"
      ]
     },
     "metadata": {},
     "output_type": "display_data"
    }
   ],
   "source": [
    "@interact_manual(dt=(0.1, 2, 0.01),\n",
    "                 start=(0, 10),\n",
    "                 end=(1, 20))\n",
    "def compare_exercise2(dt=0.5, start=1, end=2):\n",
    "    y0 = np.array([1, 2, 3])\n",
    "    compare_methods_system(exercise2, dt, y0, start, end)"
   ]
  },
  {
   "cell_type": "markdown",
   "metadata": {},
   "source": [
    "## Some examples"
   ]
  },
  {
   "cell_type": "code",
   "execution_count": 11,
   "metadata": {},
   "outputs": [],
   "source": [
    "def ex1(u, t):\n",
    "    return u\n",
    "\n",
    "def ex2(u, t):\n",
    "    return 2*t\n",
    "\n",
    "def ex3(u, t):\n",
    "    return t**2 + 2*t\n",
    "\n",
    "def ex4(u, t):\n",
    "    return cos(t)\n",
    "\n",
    "def ex5(u, t):\n",
    "    return u*cos(t)"
   ]
  },
  {
   "cell_type": "code",
   "execution_count": 12,
   "metadata": {},
   "outputs": [
    {
     "data": {
      "application/vnd.jupyter.widget-view+json": {
       "model_id": "d92bcfcfcb0041a8913caed4575746ca",
       "version_major": 2,
       "version_minor": 0
      },
      "text/plain": [
       "interactive(children=(FloatSlider(value=0.5, description='dt', max=2.0, min=0.1), FloatSlider(value=1.0, descr…"
      ]
     },
     "metadata": {},
     "output_type": "display_data"
    }
   ],
   "source": [
    "@interact_manual(dt=(0.1, 2),\n",
    "                 y0 = (0.2, 5, 0.2),\n",
    "                 start=(0, 10),\n",
    "                 end=(1, 20))\n",
    "def compare_ex1(dt=0.5, y0=1, start=0, end=2):\n",
    "    compare_methods(ex1, dt, y0, start, end, gt=np.exp)"
   ]
  },
  {
   "cell_type": "code",
   "execution_count": 13,
   "metadata": {},
   "outputs": [
    {
     "data": {
      "application/vnd.jupyter.widget-view+json": {
       "model_id": "01a6335bae6f4ff287d9cba4e03fb685",
       "version_major": 2,
       "version_minor": 0
      },
      "text/plain": [
       "interactive(children=(FloatSlider(value=0.5, description='dt', max=2.0, min=0.1), FloatSlider(value=1.0, descr…"
      ]
     },
     "metadata": {},
     "output_type": "display_data"
    }
   ],
   "source": [
    "@interact_manual(dt=(0.1, 2),\n",
    "                 y0 = (0.2, 5, 0.2),\n",
    "                 start=(0, 10),\n",
    "                 end=(1, 20))\n",
    "def compare_ex2(dt=0.5, y0=1, start=0, end=2):\n",
    "    def parabola(t):\n",
    "        return t**2\n",
    "    compare_methods(ex1, dt, y0, start, end, gt=parabola)"
   ]
  },
  {
   "cell_type": "code",
   "execution_count": null,
   "metadata": {},
   "outputs": [],
   "source": []
  }
 ],
 "metadata": {
  "kernelspec": {
   "display_name": "Python 3",
   "language": "python",
   "name": "python3"
  },
  "language_info": {
   "codemirror_mode": {
    "name": "ipython",
    "version": 3
   },
   "file_extension": ".py",
   "mimetype": "text/x-python",
   "name": "python",
   "nbconvert_exporter": "python",
   "pygments_lexer": "ipython3",
   "version": "3.7.7"
  }
 },
 "nbformat": 4,
 "nbformat_minor": 4
}
