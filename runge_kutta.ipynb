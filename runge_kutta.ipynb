{
 "cells": [
  {
   "cell_type": "markdown",
   "metadata": {},
   "source": [
    "# Numerical Analysis - IMPA 2020\n",
    "### Professor Dan Marchesin\n",
    "### Hallison Paz, 1st year Phd student\n",
    "### Pedro Fonini, 2nd year MSc student"
   ]
  },
  {
   "cell_type": "code",
   "execution_count": 8,
   "metadata": {},
   "outputs": [],
   "source": [
    "import numpy as np\n",
    "import matplotlib.pyplot as plt\n",
    "\n",
    "from ipywidgets import interact, interact_manual"
   ]
  },
  {
   "cell_type": "markdown",
   "metadata": {},
   "source": [
    "-------\n",
    "## Runge Kutta method"
   ]
  },
  {
   "cell_type": "code",
   "execution_count": 38,
   "metadata": {},
   "outputs": [],
   "source": [
    "def runge_kutta2(f, h, yn, tn):\n",
    "    k1 = f(yn, tn)\n",
    "    k2 = f(yn + k1, tn + h)\n",
    "    return yn + h*(0.5*k1 + 0.5*k2)\n",
    "\n",
    "def runge_kutta4(f, h, yn, tn):\n",
    "    half_h = h/2\n",
    "    k1 = f(yn, tn)\n",
    "    k2 = f(yn + half_h*k1, tn + half_h)\n",
    "    k3 = f(yn + half_h*k2, tn + half_h)\n",
    "    k4 = f(yn + h*k3, tn + h)\n",
    "    return yn + (h/6)*(k1 + 2*(k2 + k3) + k4)"
   ]
  },
  {
   "cell_type": "code",
   "execution_count": 4,
   "metadata": {},
   "outputs": [],
   "source": [
    "# TODO: System version"
   ]
  },
  {
   "cell_type": "markdown",
   "metadata": {},
   "source": [
    "## Some examples"
   ]
  },
  {
   "cell_type": "code",
   "execution_count": 5,
   "metadata": {},
   "outputs": [],
   "source": [
    "from math import sin, cos, pi, exp"
   ]
  },
  {
   "cell_type": "code",
   "execution_count": 6,
   "metadata": {},
   "outputs": [],
   "source": [
    "def ex1(u, t):\n",
    "    return u\n",
    "\n",
    "def ex2(u, t):\n",
    "    return 2*t\n",
    "\n",
    "def ex3(u, t):\n",
    "    return t**2 + 2*t\n",
    "\n",
    "def ex4(u, t):\n",
    "    return cos(t)\n",
    "\n",
    "def ex5(u, t):\n",
    "    return u*cos(t)"
   ]
  },
  {
   "cell_type": "code",
   "execution_count": 36,
   "metadata": {},
   "outputs": [],
   "source": [
    "def compare_methods(f, dt, y0=1, start=0, end=2):\n",
    "    nsamples = int((end - start)/dt) + 1\n",
    "    time = np.linspace(start, end, nsamples)\n",
    "    y_rk2 = np.zeros(nsamples)\n",
    "    y_rk4 = np.zeros(nsamples)\n",
    "\n",
    "    y_rk2[0] = y0\n",
    "    y_rk4[0] = y0\n",
    "    \n",
    "    for n in range(nsamples-1):\n",
    "        y_rk2[n+1] = runge_kutta2(f, dt, y_rk2[n], time[n])\n",
    "        y_rk4[n+1] = runge_kutta4(f, dt, y_rk4[n], time[n])\n",
    "\n",
    "    fig = plt.figure(figsize=(16, 8))\n",
    "    plt.plot(time, y_rk2, label='Runge Kutta order 2')\n",
    "    plt.plot(time, y_rk4, label='Runge Kutta order 4')\n",
    "    fig.legend('center right')\n",
    "    plt.axvline(0, color='#11111155')\n",
    "    plt.axhline(0, color='#11111155')\n",
    "    plt.xlabel('time')\n",
    "    plt.ylabel('Y')\n",
    "    plt.show()"
   ]
  },
  {
   "cell_type": "code",
   "execution_count": 39,
   "metadata": {},
   "outputs": [
    {
     "data": {
      "application/vnd.jupyter.widget-view+json": {
       "model_id": "030423c60d934e5381bc3d6cd321179a",
       "version_major": 2,
       "version_minor": 0
      },
      "text/plain": [
       "interactive(children=(FloatSlider(value=0.5, description='dt', max=1.5, min=-0.5), IntSlider(value=1, descript…"
      ]
     },
     "metadata": {},
     "output_type": "display_data"
    }
   ],
   "source": [
    "@interact\n",
    "def compare_ex1(dt=0.5, y0=1, start=0, end=2):\n",
    "    compare_methods(ex1, dt, y0, start, end)"
   ]
  },
  {
   "cell_type": "code",
   "execution_count": null,
   "metadata": {},
   "outputs": [],
   "source": []
  }
 ],
 "metadata": {
  "kernelspec": {
   "display_name": "Python 3",
   "language": "python",
   "name": "python3"
  },
  "language_info": {
   "codemirror_mode": {
    "name": "ipython",
    "version": 3
   },
   "file_extension": ".py",
   "mimetype": "text/x-python",
   "name": "python",
   "nbconvert_exporter": "python",
   "pygments_lexer": "ipython3",
   "version": "3.7.7"
  }
 },
 "nbformat": 4,
 "nbformat_minor": 4
}
